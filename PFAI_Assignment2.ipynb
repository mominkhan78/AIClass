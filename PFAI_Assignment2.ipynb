{
  "nbformat": 4,
  "nbformat_minor": 0,
  "metadata": {
    "colab": {
      "provenance": [],
      "authorship_tag": "ABX9TyP8gJFI1M3nU18njqnZ2V8R",
      "include_colab_link": true
    },
    "kernelspec": {
      "name": "python3",
      "display_name": "Python 3"
    },
    "language_info": {
      "name": "python"
    }
  },
  "cells": [
    {
      "cell_type": "markdown",
      "metadata": {
        "id": "view-in-github",
        "colab_type": "text"
      },
      "source": [
        "<a href=\"https://colab.research.google.com/github/mominkhan78/AIClass/blob/main/PFAI_Assignment2.ipynb\" target=\"_parent\"><img src=\"https://colab.research.google.com/assets/colab-badge.svg\" alt=\"Open In Colab\"/></a>"
      ]
    },
    {
      "cell_type": "markdown",
      "source": [
        "# **Assignment2**\n",
        "\n",
        "**Question 1:**\n",
        "\n",
        "Write a Python program that prompts the user to enter three numbers. The program should\n",
        "then determine if these numbers can form the sides of a triangle. Use the following rules:\n",
        "\n",
        "1. If any of the three numbers are greater than the sum of the other two, the triangle is not\n",
        "valid.\n",
        "\n",
        "2. If all three numbers are equal, the triangle is equilateral.\n",
        "\n",
        "3. If two numbers are equal, the triangle is isosceles.\n",
        "\n",
        "4. If none of the above condiƟons hold, the triangle is scalene.\n"
      ],
      "metadata": {
        "id": "hgdlZoIF7mbC"
      }
    },
    {
      "cell_type": "code",
      "execution_count": 22,
      "metadata": {
        "colab": {
          "base_uri": "https://localhost:8080/"
        },
        "id": "pqMlAF8w64nH",
        "outputId": "984c0845-e70c-4407-8847-ec98112cfe91"
      },
      "outputs": [
        {
          "output_type": "stream",
          "name": "stdout",
          "text": [
            "Enter 3 Numbers to make Triangle \n",
            "\n",
            "Enter 1st Number: 2\n",
            "Enter 2nd Number: 3\n",
            "Enter 3rd Number: 4\n",
            "Triangle is Scalene\n"
          ]
        }
      ],
      "source": [
        "print(\"Enter 3 Numbers to make Triangle \\n\")\n",
        "\n",
        "num1 = int(input(\"Enter 1st Number: \"))\n",
        "num2 = int(input(\"Enter 2nd Number: \"))\n",
        "num3 = int(input(\"Enter 3rd Number: \"))\n",
        "\n",
        "if (num1 + num2) < num3 or (num2 + num3) < num1 or (num1 + num3) < num2:\n",
        "  print(\"Triangle is not valid\")\n",
        "\n",
        "elif num1 == num2 == num3:\n",
        "  print(\"Triangle is Equilateral\")\n",
        "\n",
        "elif num1 == num2 or num2 == num3 or num3 == num1:\n",
        "  print(\"Triangle is Isosceles\")\n",
        "\n",
        "else:\n",
        "  print(\"Triangle is Scalene\")\n"
      ]
    },
    {
      "cell_type": "markdown",
      "source": [
        "**Question 2:**\n",
        "\n",
        "Write a Python program to simulate a simple ATM machine. The program should prompt the\n",
        "user to enter their PIN. If the PIN is correct (assume the PIN is '1234'), the program should\n",
        "display a menu with opƟons to withdraw money, deposit money, or check balance. If the PIN is\n",
        "incorrect, the program should display a message \"Incorrect PIN\" and terminate."
      ],
      "metadata": {
        "id": "zy3FEX8tI6SS"
      }
    },
    {
      "cell_type": "code",
      "source": [
        "PIN = 1234\n",
        "NAME = \"Momin Khan\"\n",
        "MONEY = 2000000\n",
        "userPin = int(input(\"Enter the Pin: \"))\n",
        "\n",
        "if PIN == userPin:\n",
        "  print(\"\\n\\n\\t\\tWelcome,\",NAME)\n",
        "\n",
        "  print(\"\\n\\t\\tWhat you want \\n\\n\\t\\t\\t1.Withdraw\\n\\t\\t\\t2.Deposit\\n\\t\\t\\t3.Check\")\n",
        "\n",
        "  option = int(input(\"\\n\\t\\tSelect 1,2 and 3 to proceed further\"))\n",
        "\n",
        "  if option == 1:\n",
        "    print(\"\\n\\n\\t\\tWithdraw\")\n",
        "\n",
        "  elif option == 2:\n",
        "    print(\"\\n\\n\\t\\tDeposit\")\n",
        "\n",
        "  elif option == 3:\n",
        "    print(\"\\n\\n\\t\\tYour Account have Rs.\"+ str(MONEY))\n",
        "\n",
        "else:\n",
        "  print(\"Incorrect Pin!\")\n"
      ],
      "metadata": {
        "colab": {
          "base_uri": "https://localhost:8080/"
        },
        "id": "Stv3PgloJBSt",
        "outputId": "a8ea42f4-f4c2-4407-bf53-36df30b7f8da"
      },
      "execution_count": 35,
      "outputs": [
        {
          "output_type": "stream",
          "name": "stdout",
          "text": [
            "Enter the Pin: 1234\n",
            "\n",
            "\n",
            "\t\tWelcome, Momin Khan\n",
            "\n",
            "\t\tWhat you want \n",
            "\n",
            "\t\t\t1.Withdraw\n",
            "\t\t\t2.Deposit\n",
            "\t\t\t3.Check\n",
            "\n",
            "\t\tSelect 1,2 and 3 to proceed further2\n",
            "\n",
            "\n",
            "\t\tDeposit\n"
          ]
        }
      ]
    },
    {
      "cell_type": "markdown",
      "source": [
        "**Question 3:**\n",
        "\n",
        "Consider the following expression:\n",
        "\n",
        "![image.png](data:image/png;base64,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)\n",
        "\n",
        "Write a Python program that takes four integers a, b, c, and d as input and calculates the value of x using the given expression. Ensure that your program handles division by zero gracefully.\n"
      ],
      "metadata": {
        "id": "ayccdNINPhOw"
      }
    },
    {
      "cell_type": "code",
      "source": [
        "a = int(input(\"Enter a: \"))\n",
        "b = int(input(\"Enter b: \"))\n",
        "c = int(input(\"Enter c: \"))\n",
        "d = int(input(\"Enter d: \"))\n",
        "\n",
        "if (c-d) != 0:\n",
        "  x = (a**2+b**2)/(c-d)\n",
        "  print(x)\n",
        "else:\n",
        "  print(\"Error Denominator get Zero\")\n",
        "\n"
      ],
      "metadata": {
        "colab": {
          "base_uri": "https://localhost:8080/"
        },
        "id": "IK2KWo3UP1f-",
        "outputId": "a8ecca32-fa4f-4d9a-9a86-a7d331523988"
      },
      "execution_count": 42,
      "outputs": [
        {
          "output_type": "stream",
          "name": "stdout",
          "text": [
            "Enter a: 2\n",
            "Enter b: 4\n",
            "Enter c: 3\n",
            "Enter d: 3\n",
            "Error Denominator get Zero\n"
          ]
        }
      ]
    }
  ]
}