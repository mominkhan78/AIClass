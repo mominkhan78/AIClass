{
  "nbformat": 4,
  "nbformat_minor": 0,
  "metadata": {
    "colab": {
      "provenance": [],
      "mount_file_id": "17p_OhPCFEJVZ1W1reYj3Po56fsL1EPT_",
      "authorship_tag": "ABX9TyPggCSOs7hTtFPZOgNFcZo8",
      "include_colab_link": true
    },
    "kernelspec": {
      "name": "python3",
      "display_name": "Python 3"
    },
    "language_info": {
      "name": "python"
    }
  },
  "cells": [
    {
      "cell_type": "markdown",
      "metadata": {
        "id": "view-in-github",
        "colab_type": "text"
      },
      "source": [
        "<a href=\"https://colab.research.google.com/github/mominkhan78/AIClass/blob/main/Assignment1PFAI.ipynb\" target=\"_parent\"><img src=\"https://colab.research.google.com/assets/colab-badge.svg\" alt=\"Open In Colab\"/></a>"
      ]
    },
    {
      "cell_type": "code",
      "source": [
        "inputSentence = input(\"Enter a Sentence: \")\n",
        "\n",
        "inputWords = inputSentence.split()\n",
        "\n",
        "lengthOfWords = len(inputWords)\n",
        "\n",
        "print(\"Total Number of Words:\" , lengthOfWords)\n",
        "\n",
        "lengthOfSentence = len(inputSentence)\n",
        "print(\"Length of String:\" , lengthOfSentence)\n",
        "\n",
        "print(\"\\nShortest word and length...\")\n",
        "\n",
        "minWordLength = len(inputWords[0])\n",
        "minWords = [inputWords[0]]\n",
        "\n",
        "for i in inputWords:\n",
        "    if len(i) < minWordLength:\n",
        "        minWordLength = len(i)\n",
        "        minWords = [i]\n",
        "    elif len(i) == minWordLength:\n",
        "        minWords.append(i)\n",
        "\n",
        "\n",
        "print(minWords, \":\", minWordLength)\n"
      ],
      "metadata": {
        "colab": {
          "base_uri": "https://localhost:8080/"
        },
        "id": "GgEJP077Ys6g",
        "outputId": "26ddab43-9d9b-43c6-c17a-741cc6d505e9"
      },
      "execution_count": null,
      "outputs": [
        {
          "output_type": "stream",
          "name": "stdout",
          "text": [
            "Enter a Sentence: Momin and Hasnain are in same group\n",
            "Total Number of Words: 7\n",
            "Length of String: 35\n",
            "\n",
            "Shortest word and length...\n",
            "['in'] : 2\n"
          ]
        }
      ]
    },
    {
      "cell_type": "code",
      "source": [
        "import pandas as pd\n",
        "\n",
        "path = \"/content/drive/MyDrive/Assignment1PFAI/Best.xlsx\"\n",
        "df = pd.read_excel(path)\n",
        "\n",
        "first_column_data = df.columns[1]\n",
        "\n",
        "first_column_values = df[first_column_data]\n",
        "\n",
        "minValueSentence = [first_column_values[0]]\n",
        "minValueSentenceLen = len(first_column_values[0])\n",
        "\n",
        "for i in first_column_values:\n",
        "    if len(i) < minValueSentenceLen:\n",
        "        minValueSentenceLen = len(i)\n",
        "        minValueSentence = [i]\n",
        "    elif len(i) == minValueSentenceLen:\n",
        "        minValueSentence.append(i)\n",
        "\n",
        "print(\"Shortest String:\", minValueSentence[0])\n",
        "\n",
        "minValueWords = []\n",
        "\n",
        "for sentence in minValueSentence:\n",
        "    minValueWords.extend(sentence.split())\n",
        "\n",
        "minValueWordsLen = len(minValueWords[0])\n",
        "\n",
        "minValueWordLen = len(minValueWords)\n",
        "\n",
        "minValueWord = []\n",
        "\n",
        "for i in minValueWords:\n",
        "    if len(i) < minValueWordsLen:\n",
        "        minValueWordsLen = len(i)\n",
        "        minValueWord = [i]\n",
        "    elif len(i) == minValueWordsLen:\n",
        "        minValueWord.append(i)\n",
        "\n",
        "\n",
        "\n",
        "print(\"Total Number of Words:\",minValueWordLen)\n",
        "\n",
        "print(\"Length of String:\",minValueSentenceLen)\n",
        "print(\"\\n\")\n",
        "print(minValueWord,\":\",minValueWordsLen)"
      ],
      "metadata": {
        "colab": {
          "base_uri": "https://localhost:8080/"
        },
        "id": "R486nyKn3JD1",
        "outputId": "41d37752-3287-45c1-8528-66cab1edf0c5"
      },
      "execution_count": 47,
      "outputs": [
        {
          "output_type": "stream",
          "name": "stdout",
          "text": [
            "Shortest String: ہو سکتا ہے ترمیم ہو جائے\n",
            "Total Number of Words: 11\n",
            "Length of String: 24\n",
            "\n",
            "\n",
            "['ہو', 'ہے', 'ہو', 'کو'] : 2\n"
          ]
        }
      ]
    },
    {
      "cell_type": "code",
      "source": [
        "import pandas as pd\n",
        "\n",
        "path = \"/content/drive/MyDrive/Assignment1PFAI/Best.xlsx\"\n",
        "df = pd.read_excel(path)\n",
        "\n",
        "first_column_data = df.columns[0]\n",
        "\n",
        "first_column_values = df[first_column_data]\n",
        "\n",
        "minValueSentence = [first_column_values[0]]\n",
        "minValueSentenceLen = len(first_column_values[0])\n",
        "\n",
        "for i in first_column_values:\n",
        "    if len(i) < minValueSentenceLen:\n",
        "        minValueSentenceLen = len(i)\n",
        "        minValueSentence = [i]\n",
        "    elif len(i) == minValueSentenceLen:\n",
        "        minValueSentence.append(i)\n",
        "\n",
        "print(\"Shortest String:\", minValueSentence[0])\n",
        "\n",
        "minValueWords = []\n",
        "\n",
        "for sentence in minValueSentence:\n",
        "    minValueWords.extend(sentence.split())\n",
        "\n",
        "minValueWordsLen = len(minValueWords[0])\n",
        "\n",
        "minValueWordLen = len(minValueWords)\n",
        "\n",
        "minValueWord = []\n",
        "\n",
        "for i in minValueWords:\n",
        "    if len(i) < minValueWordsLen:\n",
        "        minValueWordsLen = len(i)\n",
        "        minValueWord = [i]\n",
        "    elif len(i) == minValueWordsLen:\n",
        "        minValueWord.append(i)\n",
        "\n",
        "\n",
        "\n",
        "print(\"Total Number of Words:\",minValueWordLen)\n",
        "\n",
        "print(\"Length of String:\",minValueSentenceLen)\n",
        "print(\"\\n\")\n",
        "print(minValueWord,\":\",minValueWordsLen)"
      ],
      "metadata": {
        "colab": {
          "base_uri": "https://localhost:8080/"
        },
        "id": "GFsZHRXNvnUH",
        "outputId": "430e2d1f-9d2a-4c91-957a-63453ced46ec"
      },
      "execution_count": null,
      "outputs": [
        {
          "output_type": "stream",
          "name": "stdout",
          "text": [
            "Shortest String: Maybe tarmeem ho jaye\n",
            "Total Number of Words: 4\n",
            "Length of String: 21\n",
            "['ho'] : 2\n"
          ]
        }
      ]
    },
    {
      "cell_type": "code",
      "source": [
        "import pandas as pd\n",
        "\n",
        "path = \"/content/drive/MyDrive/Assignment1PFAI/Best.xlsx\"\n",
        "df = pd.read_excel(path)\n",
        "\n",
        "first_column_data = df.columns[1]\n",
        "\n",
        "first_column_values = df[first_column_data]\n",
        "\n",
        "maxValueSentence = [first_column_values[0]]\n",
        "maxValueSentenceLen = len(first_column_values[0])\n",
        "\n",
        "for i in first_column_values:\n",
        "    if len(i) > maxValueSentenceLen:\n",
        "        maxValueSentenceLen = len(i)\n",
        "        maxValueSentence = [i]\n",
        "    elif len(i) == maxValueSentenceLen:\n",
        "        maxValueSentence.append(i)\n",
        "\n",
        "print(\"Longest String:\", maxValueSentence[0])\n",
        "\n",
        "maxValueWords = []\n",
        "maxValueWord = []\n",
        "\n",
        "for sentence in maxValueSentence:\n",
        "    maxValueWords.extend(sentence.split())\n",
        "\n",
        "maxValueWordsLen = len(maxValueWords[0])\n",
        "\n",
        "maxValueWordLen = len(maxValueWords)\n",
        "\n",
        "for i in maxValueWords:\n",
        "    if len(i) > maxValueWordsLen:\n",
        "        maxValueWordsLen = len(i)\n",
        "        maxValueWord = [i]\n",
        "    elif len(i) == maxValueWordsLen:\n",
        "        maxValueWord.append(i)\n",
        "\n",
        "\n",
        "\n",
        "print(\"Total Number of Words:\",maxValueWordLen)\n",
        "\n",
        "print(\"Length of String:\",maxValueSentenceLen)\n",
        "print(\"\\n\")\n",
        "print(maxValueWord,\":\",maxValueWordsLen)"
      ],
      "metadata": {
        "colab": {
          "base_uri": "https://localhost:8080/"
        },
        "id": "9Qh_y4X5qpGu",
        "outputId": "829e4f1f-b742-4911-dc3d-a335a671acdc"
      },
      "execution_count": 48,
      "outputs": [
        {
          "output_type": "stream",
          "name": "stdout",
          "text": [
            "Longest String: دوحہ میں آئی سی سی ٹریبونل کے فیصلے کے بعد وطن واپسی پر محمد عامر نے آئی سی سی کے فیصلے پرکسی تبصرے سے انکارکر دیا  کہاکہ ان کے پاس ثالثی عدالت میں اپیل کا آپشن ہے جو وہ ضرور کریں گے\n",
            "Total Number of Words: 42\n",
            "Length of String: 182\n",
            "\n",
            "\n",
            "['ٹریبونل', 'انکارکر'] : 7\n"
          ]
        }
      ]
    },
    {
      "cell_type": "code",
      "source": [
        "import pandas as pd\n",
        "\n",
        "path = \"/content/drive/MyDrive/Assignment1PFAI/Best.xlsx\"\n",
        "df = pd.read_excel(path)\n",
        "\n",
        "first_column_data = df.columns[0]\n",
        "\n",
        "first_column_values = df[first_column_data]\n",
        "\n",
        "maxValueSentence = [first_column_values[0]]\n",
        "maxValueSentenceLen = len(first_column_values[0])\n",
        "\n",
        "for i in first_column_values:\n",
        "    if len(i) > maxValueSentenceLen:\n",
        "        maxValueSentenceLen = len(i)\n",
        "        maxValueSentence = [i]\n",
        "    elif len(i) == maxValueSentenceLen:\n",
        "        maxValueSentence.append(i)\n",
        "\n",
        "print(\"Longest String:\", maxValueSentence[0])\n",
        "\n",
        "maxValueWords = []\n",
        "maxValueWord = []\n",
        "\n",
        "for sentence in maxValueSentence:\n",
        "    maxValueWords.extend(sentence.split())\n",
        "\n",
        "maxValueWordsLen = len(maxValueWords[0])\n",
        "\n",
        "maxValueWordLen = len(maxValueWords)\n",
        "\n",
        "for i in maxValueWords:\n",
        "    if len(i) > maxValueWordsLen:\n",
        "        maxValueWordsLen = len(i)\n",
        "        maxValueWord = [i]\n",
        "    elif len(i) == maxValueWordsLen:\n",
        "        maxValueWord.append(i)\n",
        "\n",
        "\n",
        "\n",
        "print(\"Total Number of Words:\",maxValueWordLen)\n",
        "\n",
        "print(\"Length of String:\",maxValueSentenceLen)\n",
        "print(\"\\n\")\n",
        "print(maxValueWord,\":\",maxValueWordsLen)"
      ],
      "metadata": {
        "colab": {
          "base_uri": "https://localhost:8080/"
        },
        "id": "BkJPV6rsvsEj",
        "outputId": "13c919a3-2205-4734-cfd5-4d4566edf2d7"
      },
      "execution_count": null,
      "outputs": [
        {
          "output_type": "stream",
          "name": "stdout",
          "text": [
            "Longest String: In Dhaka, Pakistan and Bangladesh 1.30 pm Pakistan time per amney samney hongi, while the match between Australia and South Africa dopeher do bajey shuru hoga\n",
            "Total Number of Words: 26\n",
            "Length of String: 158\n",
            "\n",
            "\n",
            "['Bangladesh'] : 10\n"
          ]
        }
      ]
    }
  ]
}