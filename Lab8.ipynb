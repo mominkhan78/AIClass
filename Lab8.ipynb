{
  "nbformat": 4,
  "nbformat_minor": 0,
  "metadata": {
    "colab": {
      "provenance": [],
      "authorship_tag": "ABX9TyP3/RXc9oEppn03fPGlxGDu",
      "include_colab_link": true
    },
    "kernelspec": {
      "name": "python3",
      "display_name": "Python 3"
    },
    "language_info": {
      "name": "python"
    }
  },
  "cells": [
    {
      "cell_type": "markdown",
      "metadata": {
        "id": "view-in-github",
        "colab_type": "text"
      },
      "source": [
        "<a href=\"https://colab.research.google.com/github/mominkhan78/AIClass/blob/main/Lab8.ipynb\" target=\"_parent\"><img src=\"https://colab.research.google.com/assets/colab-badge.svg\" alt=\"Open In Colab\"/></a>"
      ]
    },
    {
      "cell_type": "markdown",
      "source": [
        "# **Lab8**\n",
        "\n",
        "**Task1:**\n",
        "\n",
        "**Declaring and defining a fuction**\n"
      ],
      "metadata": {
        "id": "8j78pCMcNt67"
      }
    },
    {
      "cell_type": "code",
      "execution_count": null,
      "metadata": {
        "colab": {
          "base_uri": "https://localhost:8080/"
        },
        "id": "WaKCHpZTNsAt",
        "outputId": "c5ce30b9-06a4-4007-f53d-18739854bf71"
      },
      "outputs": [
        {
          "output_type": "stream",
          "name": "stdout",
          "text": [
            "My name is Momin Khan\n",
            "My ID is B22F1181AI056\n"
          ]
        }
      ],
      "source": [
        "def momin():\n",
        "  print(\"My name is Momin Khan\")\n",
        "  print(\"My ID is B22F1181AI056\")\n",
        "\n",
        "momin()"
      ]
    },
    {
      "cell_type": "markdown",
      "source": [
        "**Task2:**\n",
        "\n",
        "**Parameter Pass in Function**"
      ],
      "metadata": {
        "id": "f0cGckZuRLI4"
      }
    },
    {
      "cell_type": "code",
      "source": [
        "def AIBlue(name):\n",
        "  print(\"My name is\",name)\n",
        "\n",
        "\n",
        "name = \"Momin Khan\"\n",
        "\n",
        "AIBlue(name)"
      ],
      "metadata": {
        "colab": {
          "base_uri": "https://localhost:8080/"
        },
        "id": "987ydyinRRjH",
        "outputId": "187f19e9-3abd-44c1-ed18-8f1cad4aef46"
      },
      "execution_count": null,
      "outputs": [
        {
          "output_type": "stream",
          "name": "stdout",
          "text": [
            "My name is Momin Khan\n"
          ]
        }
      ]
    },
    {
      "cell_type": "markdown",
      "source": [
        "**Task3:**\n",
        "\n",
        "**More than 1 Parameter Pass in Function**"
      ],
      "metadata": {
        "id": "_MsAF3_oY-LR"
      }
    },
    {
      "cell_type": "code",
      "source": [
        "def momin(name,id):\n",
        "  print(\"My name is\",name)\n",
        "  print(\"My ID is\",id)\n",
        "\n",
        "\n",
        "momin(\"Momin Khan\",\"B22F1181AI056\")"
      ],
      "metadata": {
        "colab": {
          "base_uri": "https://localhost:8080/"
        },
        "id": "Fbo9-W3TSmQI",
        "outputId": "ba3d1a29-3114-4487-b5c1-12801ca10d2f"
      },
      "execution_count": null,
      "outputs": [
        {
          "output_type": "stream",
          "name": "stdout",
          "text": [
            "My name is Momin Khan\n",
            "My ID is B22F1181AI056\n"
          ]
        }
      ]
    }
  ]
}